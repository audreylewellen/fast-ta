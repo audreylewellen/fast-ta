{
  "cells": [
    {
      "cell_type": "markdown",
      "metadata": {
        "id": "jTdkVxFnLsZ_"
      },
      "source": [
        "###Imports and Setup"
      ]
    },
    {
      "cell_type": "code",
      "execution_count": null,
      "metadata": {
        "id": "AW8yRJGRLONN"
      },
      "outputs": [],
      "source": [
        "import pandas as pd\n",
        "import numpy as np\n",
        "from google.colab import files\n",
        "import shutil\n",
        "import os\n",
        "from google.colab import drive\n",
        "drive.mount('/content/drive')\n",
        "!pip install gurobipy"
      ]
    },
    {
      "cell_type": "code",
      "execution_count": null,
      "metadata": {
        "id": "k7ew4U6kLap0"
      },
      "outputs": [],
      "source": [
        "!git pull"
      ]
    },
    {
      "cell_type": "code",
      "execution_count": null,
      "metadata": {
        "id": "NJOSJN0KLcmh"
      },
      "outputs": [],
      "source": [
        "import json\n",
        "from urllib.request import urlopen\n",
        "from datetime import datetime\n",
        "import json\n",
        "import datetime as dt\n",
        "import matplotlib.pyplot as plt\n",
        "import os\n",
        "import math\n",
        "from copy import copy\n",
        "import random\n",
        "pd.set_option('display.max_columns', None)\n",
        "from itertools import takewhile\n",
        "import gurobipy as gp\n",
        "from gurobipy import *\n",
        "from itertools import product\n",
        "import timeit\n",
        "from google.colab import userdata\n",
        "from gurobipy import Env\n",
        "import random\n",
        "!pip install pulp\n",
        "\n",
        "from dotenv import load_dotenv\n",
        "load_dotenv()\n",
        "MATRIX_FILE_PATH = os.getenv('MATRIX_FILE_PATH')\n",
        "SIZES_FILE_PATH = os.getenv('SIZES_FILE_PATH')"
      ]
    },
    {
      "cell_type": "markdown",
      "metadata": {
        "id": "SB3ZG4foPqYS"
      },
      "source": [
        "### Helper Functions and Constants"
      ]
    },
    {
      "cell_type": "code",
      "execution_count": null,
      "metadata": {
        "id": "C31_W_0bPsf8"
      },
      "outputs": [],
      "source": [
        "# Import coenrollment matrix\n",
        "co = pd.read_csv(MATRIX_FILE_PATH, index_col=0)\n",
        "\n",
        "# Import number of students taking each exam\n",
        "e_counts = pd.read_csv(SIZES_FILE_PATH, index_col=0)\n",
        "# Exam ids are indices of co-enrollment matrix\n",
        "exams = list(co.index)\n",
        "\n",
        "# Define available timeslots\n",
        "timeslots = list(range(1, 25)) # timeslots 1 through 24\n",
        "\n",
        "# Define penalty weights\n",
        "CONFLICT_PENALTY = 100\n",
        "B2B_PENALTY = 1\n",
        "\n",
        "# Function to initialize random starting solution\n",
        "def random_initial_solution():\n",
        "    \"\"\"Assigns each room to a random timeslot\"\"\"\n",
        "    solution = {}\n",
        "    for exam in exams:\n",
        "        solution[exam] = random.choice(timeslots)\n",
        "    return solution\n",
        "\n",
        "# Function to initialize a good starting solution\n",
        "def good_initial_solution():\n",
        "  solution = {}\n",
        "\n",
        "  # Sort exams by descending counts of students taking exam\n",
        "  def exam_count(id):\n",
        "    return e_counts.loc[id, \"size\"]\n",
        "  sorted_exams = sorted(exams, key=exam_count, reverse=True)\n",
        "\n",
        "  # Traverse through sorted list, adding each exam to the timeslot that currently has the least coenrollments with it\n",
        "  for e in sorted_exams:\n",
        "    best_slot = None\n",
        "    min_conflicts = float('inf')\n",
        "    for slot in timeslots:\n",
        "      conflicts = sum([co.loc[e, other_e] for other_e in exams if other_e in solution.keys() and solution[other_e]==slot])\n",
        "      if conflicts < min_conflicts:\n",
        "        min_conflicts = conflicts\n",
        "        best_slot = slot\n",
        "    solution[e] = best_slot\n",
        "\n",
        "  return solution\n",
        "\n",
        "# Compute the cost of a solution\n",
        "def solution_cost(solution):\n",
        "    \"\"\"\n",
        "    Computes the cost of a timetable.\n",
        "\n",
        "    For every pair of exams (exam_a, exam_b) that share students (co-enrollment > 0):\n",
        "      - If they are scheduled in the same timeslot, add CONFLICT_PENALTY.\n",
        "      - If they are scheduled in consecutive timeslots (difference of 1), add BACK_TO_BACK_PENALTY.\n",
        "\n",
        "    A lower cost means a better timetable.\n",
        "    \"\"\"\n",
        "    cost = 0\n",
        "    exam_list = list(solution.keys())\n",
        "    n = len(exam_list)\n",
        "    for i in range(n):\n",
        "        for j in range(i+1, n):\n",
        "            exam_a = exam_list[i]\n",
        "            exam_b = exam_list[j]\n",
        "            # Get the co-enrollment value (number of common students)\n",
        "            common = co.loc[exam_a, exam_b]\n",
        "            if common > 0:\n",
        "                if solution[exam_a] == solution[exam_b]:\n",
        "                    cost += common* CONFLICT_PENALTY\n",
        "                elif abs(solution[exam_a] - solution[exam_b]) == 1:\n",
        "                    cost += common* B2B_PENALTY\n",
        "    return cost\n",
        "\n",
        "def solution_cost2(solution):\n",
        "  \"\"\" Computes the cost of a timetable.\n",
        "  More detailed version that comes from the actual code used.\n",
        "  \"\"\"\n",
        "  results = dict()\n",
        "\n",
        "  return (100 * results['conflicts'] +\n",
        "          100 * results['quints'] +\n",
        "          50 * results['quads'] +\n",
        "          30 * results['four in five slots'] +\n",
        "          10 * results['triple in 24h (no gaps)'] +\n",
        "          10 * results['triple in same day (no gaps)'] +\n",
        "          2 * results['other b2b'] +\n",
        "          2 * results['evening/morning b2b'] +\n",
        "          results['two in three slots'])\n",
        "\n",
        "# Find a neighbor to an solution\n",
        "def exam_neighbor(solution):\n",
        "    \"\"\"\n",
        "    Generates a neighbor solution by randomly selecting an exam and assigning\n",
        "    it a different random timeslot.\n",
        "    \"\"\"\n",
        "    neighbor = solution.copy()\n",
        "    exam = random.choice(exams)\n",
        "    available_slots = [ts for ts in timeslots if ts != neighbor[exam]]\n",
        "    neighbor[exam] = random.choice(available_slots)\n",
        "    return neighbor"
      ]
    },
    {
      "cell_type": "markdown",
      "metadata": {
        "id": "fHKzcSW738kL"
      },
      "source": [
        "Algorithm-Specific Helper Functions & Constants:"
      ]
    },
    {
      "cell_type": "code",
      "execution_count": null,
      "metadata": {
        "collapsed": true,
        "id": "QeaxuyEh3_S5"
      },
      "outputs": [],
      "source": [
        "import math\n",
        "# Starting threshold\n",
        "q_max = 10\n",
        "\n",
        "# Threshold decreasing rate\n",
        "r = 10**(-2)\n",
        "\n",
        "# Number of iterations to execute per threshold\n",
        "its = 5\n",
        "\n",
        "# Ending threshold\n",
        "q_min = 1\n",
        "\n",
        "# Cooling schedule\n",
        "def threshold_update(curr):\n",
        "  return curr * math.exp(-r)\n",
        "\n",
        "print(threshold_update(q_max))"
      ]
    },
    {
      "cell_type": "markdown",
      "metadata": {
        "id": "nnMB5hNDb1dG"
      },
      "source": [
        "### Algorithm Implementation"
      ]
    },
    {
      "cell_type": "code",
      "execution_count": null,
      "metadata": {
        "id": "qQ8FhS5Zb8O9"
      },
      "outputs": [],
      "source": [
        "# Implement TA\n",
        "thresholds = []\n",
        "def runreg():\n",
        "  prev_bin = None\n",
        "  curr_bin = {key:0 for key in exams}\n",
        "  s = good_initial_solution()\n",
        "  q = q_max\n",
        "  while q > q_min:\n",
        "    for i in range(its):\n",
        "      s1 = exam_neighbor(s)\n",
        "      exam_to_move = random.choice(list(s1.keys()))\n",
        "      if prev_bin is None or prev_bin[exam_to_move] > 0:\n",
        "        e = solution_cost(s1) - solution_cost(s)\n",
        "        thresholds.append(int(e))\n",
        "        if e <= q:\n",
        "          s = s1\n",
        "          curr_bin[exam_to_move] = curr_bin[exam_to_move] + 1\n",
        "          #print(solution_cost(s))\n",
        "    q = threshold_update(q)\n",
        "runreg()"
      ]
    },
    {
      "cell_type": "code",
      "execution_count": null,
      "metadata": {
        "id": "Wwuh1q1v9l64"
      },
      "outputs": [],
      "source": [
        "thresholds.sort()\n",
        "print(thresholds)\n",
        "bin_size = len(thresholds) // 10\n",
        "bin_boundaries = []\n",
        "pos = 0\n",
        "for i in range(9):\n",
        "  pos += bin_size\n",
        "  bin_boundaries.append((thresholds[pos] + thresholds[pos + 1])/2)\n",
        "print(pos)\n",
        "print(bin_boundaries)"
      ]
    },
    {
      "cell_type": "code",
      "execution_count": null,
      "metadata": {
        "id": "2WpCR6eF_2Bz"
      },
      "outputs": [],
      "source": [
        "bins = bin_boundaries\n",
        "bin_boundaries = []\n",
        "for i in bins:\n",
        "  bin_boundaries.append(float(i))\n",
        "print(bin_boundaries)\n",
        "# [-3.0, 0.0, 2.0, 97.0, 102.0, 289.0, 404.5, 772.5, 1766.5]"
      ]
    },
    {
      "cell_type": "code",
      "execution_count": null,
      "metadata": {
        "id": "7sSK0wLuSX9W"
      },
      "outputs": [],
      "source": [
        "bin_boundaries = [0, 1, 2]\n"
      ]
    },
    {
      "cell_type": "code",
      "execution_count": null,
      "metadata": {
        "id": "DhxMTcd2Cns4"
      },
      "outputs": [],
      "source": [
        "# Implement FastTA\n",
        "def get_bin_index(q):\n",
        "    for i in range(len(bin_boundaries) - 1):\n",
        "        if bin_boundaries[i] <= q < bin_boundaries[i + 1]:\n",
        "            return i\n",
        "    return len(bin_boundaries) - 2\n",
        "\n",
        "def run():\n",
        "  prev_bin = None\n",
        "  curr_bin = {key:0 for key in exams}\n",
        "  s = good_initial_solution()\n",
        "  q = q_max\n",
        "  prev_bin_index = get_bin_index(q)\n",
        "  while q > q_min:\n",
        "    for i in range(its):\n",
        "      s1 = exam_neighbor(s)\n",
        "      exam_to_move = random.choice(list(s1.keys()))\n",
        "      if prev_bin is None or prev_bin[exam_to_move] > 0:\n",
        "        e = solution_cost(s1) - solution_cost(s)\n",
        "        if e <= q:\n",
        "          print(solution_cost(s1))\n",
        "          s = s1\n",
        "          curr_bin[exam_to_move] = curr_bin[exam_to_move] + 1\n",
        "    q = threshold_update(q)\n",
        "    # Update bin\n",
        "    # If q is in the next bin, make prev bin current bin and set current bin to 0\n",
        "    new_bin_index = get_bin_index(q)\n",
        "    if new_bin_index > prev_bin_index:\n",
        "      prev_bin = curr_bin\n",
        "      curr_bin = {key: 0 for key in exams}\n",
        "      prev_bin_index = new_bin_index\n",
        "run()"
      ]
    }
  ],
  "metadata": {
    "colab": {
      "provenance": []
    },
    "kernelspec": {
      "display_name": "Python 3",
      "name": "python3"
    },
    "language_info": {
      "name": "python"
    }
  },
  "nbformat": 4,
  "nbformat_minor": 0
}
